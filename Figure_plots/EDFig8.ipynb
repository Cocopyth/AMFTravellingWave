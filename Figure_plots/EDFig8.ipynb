{
 "cells": [
  {
   "cell_type": "code",
   "id": "02d31825-616c-4d52-9f6a-70fc4fc0b541",
   "metadata": {
    "tags": [],
    "ExecuteTime": {
     "end_time": "2024-11-19T15:01:57.556298Z",
     "start_time": "2024-11-19T15:01:57.056741Z"
    }
   },
   "source": [
    "%load_ext autoreload\n",
    "%autoreload 2\n",
    "import os\n",
    "import matplotlib.pyplot as plt\n",
    "import os\n",
    "import pandas as pd\n",
    "from amftrack.util.sys import get_analysis_folders,get_time_plate_info_long_from_analysis,get_time_plate_info_from_analysis,get_time_hypha_info_from_analysis,get_global_hypha_info_from_analysis \n",
    "import numpy as np\n",
    "import imageio\n",
    "import os\n",
    "import cv2\n",
    "from scipy.interpolate import interp1d\n",
    "from scipy.optimize import curve_fit\n",
    "from amftrack.pipeline.final_analysis.density_wave import get_wave_fit, S, dS, wave, dwave,plot_single_plate\n",
    "import matplotlib.patches as mpatches\n",
    "import statsmodels.api as sm\n",
    "from amftrack.pipeline.final_analysis.hypha_speed_analysis import *\n",
    "import scipy\n",
    "from mpl_toolkits.axes_grid1.inset_locator import inset_axes\n",
    "import scipy.io as sio\n",
    "import matplotlib as mpl\n",
    "from matplotlib.path import Path\n",
    "from matplotlib.patches import PathPatch\n",
    "from matplotlib.legend_handler import HandlerTuple\n",
    "from amftrack.util.plot import gridplot\n",
    "import logging\n",
    "from datetime import timedelta\n",
    "import warnings\n",
    "\n",
    "logging.getLogger().setLevel(logging.WARNING)\n",
    "warnings.simplefilter(action='ignore', category=pd.errors.PerformanceWarning)\n"
   ],
   "outputs": [
    {
     "name": "stdout",
     "output_type": "stream",
     "text": [
      "The autoreload extension is already loaded. To reload it, use:\n",
      "  %reload_ext autoreload\n"
     ]
    }
   ],
   "execution_count": 20
  },
  {
   "cell_type": "code",
   "id": "ebe56814-5cf9-4545-932b-5f7e0a350f39",
   "metadata": {
    "tags": [],
    "ExecuteTime": {
     "end_time": "2024-11-19T15:01:59.793429Z",
     "start_time": "2024-11-19T15:01:57.620816Z"
    }
   },
   "source": [
    "all_analysis_folders = get_analysis_folders(r\"data\")\n",
    "plates = [\n",
    "\"822_20231204\",\n",
    "\"866_20231204\",\n",
    "\"918_20231110\"\n",
    "]\n",
    "analysis_folders = all_analysis_folders.loc[all_analysis_folders['unique_id'].isin(plates)]\n",
    "folders,time_plate_info = get_time_plate_info_from_analysis(analysis_folders,use_saved=False)\n",
    "time_plate_info = time_plate_info.replace(-1.0,np.nan)\n",
    "width = 1.6\n",
    "height = 1"
   ],
   "outputs": [],
   "execution_count": 21
  },
  {
   "cell_type": "code",
   "id": "98201e56-276b-450f-a348-727522486350",
   "metadata": {
    "ExecuteTime": {
     "end_time": "2024-11-19T15:02:00.581355Z",
     "start_time": "2024-11-19T15:01:59.939780Z"
    }
   },
   "source": [
    "Css = {}\n",
    "lambss = {}\n",
    "dss = {}\n",
    "meancurves = {}\n",
    "meancurves2 = {}\n",
    "t0ss = {}\n",
    "timestep = {32:100,28:60,30:80,1014: 80, 1023:60, 1037:70, 1042:100,52 : 50,56:50,938:30,1076:60,84:80,89:80,91:70,127:60,129:50,94:150,152:35,792:60,1048:60,1045:50,941:50}\n",
    "timestep2 = {102:25,83:70,76:20,81:70,32:100,28:60,30:80,1014: 80, 1023:60, 1037:70, 1042:100,52 : 75,56:50,938:30,1076:60,84:80,89:80,91:70,127:60,129:50,94:100,152:35,792:50,1048:60,1045:50}\n",
    "timestep = {**timestep, **timestep2}\n",
    "timestep2 = {1014 : 80,1024:25,1027:18,1028:60,1030 : 60,1032 : 50,1042 : 120,1048:70,127:120,129:60,130:50,991:40}\n",
    "timestep = {**timestep, **timestep2}\n",
    "timestep2 = {1023 : 60,1031:30,1035:30,1037 : 80,1039 : 90,1045:70,1047:50,1053:40}\n",
    "timestep = {**timestep, **timestep2}    \n",
    "\n",
    "timestep2 = {1071 : 25,1076:70,839:60,938 : 35}\n",
    "timestep = {**timestep, **timestep2}\n",
    "timestep2 = {30 : 62,32 : 160,33:80}\n",
    "timestep = {**timestep, **timestep2}\n",
    "timestep2 = {799 : 100,800 : 25,91:100,99:40}\n",
    "timestep = {**timestep, **timestep2}\n",
    "timestep2 = {59 : 30,69 : 30}\n",
    "timestep = {**timestep, **timestep2}"
   ],
   "outputs": [],
   "execution_count": 22
  },
  {
   "cell_type": "code",
   "id": "880e5320-77cf-4395-a1ce-06d69e34e0ca",
   "metadata": {
    "ExecuteTime": {
     "end_time": "2024-11-19T15:02:01.062940Z",
     "start_time": "2024-11-19T15:02:00.589354Z"
    }
   },
   "source": [
    "shifts = {\n",
    "822 : 20,\n",
    "866 : 5,\n",
    "918 : 20,\n",
    "}\n",
    "timestep2 = {822 : 100,918 : 100,866:100}\n",
    "timestep = {**timestep, **timestep2}"
   ],
   "outputs": [],
   "execution_count": 23
  },
  {
   "cell_type": "code",
   "id": "1cdbe32f-9139-428d-986c-131d6b0cd6dc",
   "metadata": {
    "ExecuteTime": {
     "end_time": "2024-11-19T15:02:01.132988Z",
     "start_time": "2024-11-19T15:02:01.129776Z"
    }
   },
   "source": [],
   "outputs": [],
   "execution_count": null
  },
  {
   "metadata": {
    "tags": [],
    "ExecuteTime": {
     "end_time": "2024-11-19T20:17:07.319331Z",
     "start_time": "2024-11-19T20:17:04.287082Z"
    }
   },
   "cell_type": "code",
   "source": [
    "shift866 = 15\n",
    "cmap2 = mpl.cm.get_cmap(\"spring\")\n",
    "cmap = mpl.cm.get_cmap(\"winter\")\n",
    "suffix = \"\"\n",
    "# suffix = \"-new\"\n",
    "max_indexes = {int(plate.split('_')[0]) : 20 for plate in plates}\n",
    "ncols =3\n",
    "fig,axs = gridplot(len(plates),ncols = ncols,subh = height,subw = width,sharex=True,sharey=True)\n",
    "# cmap1 = mpl.cm.get_cmap(\"summer\")\n",
    "# cmap2 = mpl.cm.get_cmap(\"Reds\")\n",
    "for j,ax in enumerate(axs):\n",
    "    if j<len(plates):\n",
    "        ax2 = ax.twinx()\n",
    "        plate = plates[j]\n",
    "        plate = int(plate.split('_')[0])\n",
    "        table = time_plate_info.loc[time_plate_info[\"Plate\"]==plate]\n",
    "        # table_err = time_plate_info_long.loc[time_plate_info_long[\"Plate\"]==plate]\n",
    "\n",
    "        # table = table.dropna()\n",
    "        ts = list(table['timestep'])\n",
    "        table = table.set_index('timestep',drop=False)\n",
    "        # table_err = table_err.set_index('timestep',drop=False)\n",
    "\n",
    "        ts = list(table.index)\n",
    "        ts.sort()\n",
    "        dic = {}\n",
    "        ax.axis([5,35,0,4000])\n",
    "\n",
    "        timesteps= range(0,timestep[plate]) \n",
    "\n",
    "        popt_f,r_squared_dens,popt_f2,r_squared_tips =get_wave_fit(time_plate_info,plate,timesteps,max_indexes,lamb = -1,C =1000)\n",
    "        t0 = max(0,popt_f[-1]/popt_f[0])\n",
    "        shift = shifts[plate]\n",
    "        i0 = shift\n",
    "        timesteps_select = []\n",
    "        for delta in [0,30,60]:\n",
    "            target_value = table[\"time_since_begin\"].iloc[i0] + timedelta(hours=delta)\n",
    "            differences = abs(table[\"time_since_begin\"] - target_value)\n",
    "            closest_index = differences.idxmin()\n",
    "            closest_row = table.loc[closest_index]\n",
    "            print(differences[closest_index])\n",
    "            timesteps_select.append(closest_row[\"timestep\"])\n",
    "        # timesteps = table.loc[table['time_since_begin_h'].between(t0+shift,t0+shift+100)]['timestep']\n",
    "        # indexes = range(0,len(timesteps),len(timesteps)//3) \n",
    "        # indexes = list(indexes)[:3]\n",
    "        # timesteps = timesteps.iloc[indexes]\n",
    "        # lines = []\n",
    "        # markers = ['o','v','s']\n",
    "        for i,t in enumerate(timesteps_select):\n",
    "     #     ax.set_yscale(\"log\")\n",
    "\n",
    "            maxL = np.sqrt(1900)\n",
    "            X = np.linspace(0,maxL,100)\n",
    "            incr = 100\n",
    "            def density(x,suffix = ''):\n",
    "                area = x**2\n",
    "                index = int(area//incr)\n",
    "                column = f\"ring_density_incr-100_index-{index}{suffix}\"\n",
    "                if len(suffix) == 0:\n",
    "                    return(float(table[column][t]))\n",
    "                else:\n",
    "                    return(float(table_err[column][t]))\n",
    "            xvalues = np.array([np.sqrt(100*i) for i in range(max_indexes[plate])])\n",
    "            yvalues = [density(x,suffix) for x in xvalues]\n",
    "            xvalues,yvalues = zip(*[(x,y) for x,y in zip(xvalues,yvalues) if not(np.isnan(y))])\n",
    "\n",
    "            dic[t] = {}\n",
    "            dic[t]['distance_origin'] = xvalues\n",
    "            dic[t]['ring_density'] = yvalues\n",
    "            xvalues = np.array(xvalues)\n",
    "            yvalues = np.array(yvalues) \n",
    "            X = np.sqrt((xvalues**2+table[\"area_sep_comp\"][0])/(np.pi/2))\n",
    "            Y = yvalues\n",
    "            xs = np.sqrt((xvalues**2+table[\"area_sep_comp\"][0])/(np.pi/2))\n",
    "            if plate == 866:\n",
    "                xs -= shift866\n",
    "            scat1 = ax.plot(xs, yvalues,color=cmap((i+1)/4),label=f't={int(table[\"time_since_begin\"][t]/pd.Timedelta(days=1))} days')\n",
    "            table = table.sort_values('area_sep_comp')\n",
    "            xs, ys  = np.sqrt((xvalues**2+table[\"area_sep_comp\"][0])/(np.pi/2)), yvalues\n",
    "            if plate == 866:\n",
    "                xs -= shift866\n",
    "            err = 0*ys + 160*ys/np.max(ys)\n",
    "            ax.fill_between(xs, ys-err, ys+err,color=cmap((i+1)/4),alpha = 0.4)\n",
    "            # draw_error_band(ax, xs, ys,err,color=cmap((len(timesteps)-i)/len(timesteps)),alpha = 0.6)\n",
    "            #     ellipses = [Ellipse((x,ys[j]), 0.5, np.std(ys)*ys[j]/2000, facecolor=cmap((len(timesteps)-i)/len(timesteps)), edgecolor=\"white\") for j,x in enumerate(xs)]\n",
    "\n",
    "        #     for ellipse in ellipses:\n",
    "        #         ax.add_artist(ellipse)\n",
    "            xs = np.linspace(np.min(X),np.max(X),1000)\n",
    "            ts = [table['time_since_begin_h'][t] for x in xs]\n",
    "            xt = np.array((xs,ts))\n",
    "            # ax.plot(xs,wave(xt,*popt_f),color=cmap((len(timesteps)-i)/len(timesteps)))\n",
    "            def density(x):\n",
    "                area = x**2\n",
    "                index = int(area//incr)\n",
    "                column = f\"ring_active_tips_density_incr-100_index-{index}\"\n",
    "                return(float(table[column][t]))\n",
    "            xvalues = np.array([np.sqrt(100*i) for i in range(max_indexes[plate])])\n",
    "            yvalues = [density(x) for x in xvalues]\n",
    "\n",
    "            xvalues,yvalues = zip(*[(x,y) for x,y in zip(xvalues,yvalues) if not(np.isnan(y))])\n",
    "            dic[t]['tip_density'] = yvalues\n",
    "            xvalues = np.array(xvalues)\n",
    "            yvalues = np.array(yvalues) \n",
    "            X = np.sqrt((xvalues**2+table[\"area_sep_comp\"][0])/(np.pi/2))\n",
    "            Y = yvalues\n",
    "            # scat2 = ax2.plot(np.sqrt((xvalues**2+table[\"area_sep_comp\"][0])/(np.pi/2)), yvalues,color=cmap2((i+1)/len(timesteps)))\n",
    "\n",
    "            xs = np.linspace(np.min(X),np.max(X),1000)\n",
    "            ts = [table['time_since_begin_h'][t] for x in xs]\n",
    "            xt = np.array((xs,ts))\n",
    "            # ax2.plot(xs,dwave(xt,*popt_f2),color=cmap2((len(timesteps)-i)/len(timesteps)))\n",
    "            xs, ys  = np.sqrt((xvalues**2+table[\"area_sep_comp\"][0])/(np.pi/2)), yvalues\n",
    "            if plate == 866:\n",
    "                xs -= shift866\n",
    "            err = abs(ys)/4\n",
    "\n",
    "            # err = 0*ys + 80\n",
    "            ax2.fill_between(xs, ys-err, ys+err,color=cmap2((i+1)/4),alpha = 0.4)\n",
    "        #     ellipses = [Ellipse((x,ys[j]), 0.5, np.std(ys)*ys[j]/0.10, facecolor=cmap2((len(timesteps)-i)/len(timesteps)), edgecolor=\"white\") for j,x in enumerate(xs)]\n",
    "\n",
    "        #     for ellipse in ellipses:\n",
    "        #         ax2.add_artist(ellipse)\n",
    "            # ax.set_title(plate)\n",
    "            if j//ncols == len(plates)//ncols-1:\n",
    "                ax.set_xlabel('Distance from origin (mm)')\n",
    "            # if j%ncols == 0:\n",
    "            #     ax.set_ylabel('Network density ($\\mu m.mm^{-2}$)') \n",
    "            ax2.set_ylim((0,0.25))\n",
    "            # if j%ncols == ncols-1:\n",
    "            #     ax2.set_ylabel('Active tip density ($mm^{-2}$)')\n",
    "            if j%ncols < ncols-1:\n",
    "                ax2.set_yticklabels([])\n",
    "            ax.tick_params(axis='y', colors='blue')\n",
    "            ax2.tick_params(axis='y', colors='red')\n",
    "            right = 0.90\n",
    "            top = 0.90\n",
    "            fontsize = 10\n",
    "\n",
    "\n"
   ],
   "id": "8f937446-e3e7-4b70-83fb-5ed76108cfe6",
   "outputs": [
    {
     "name": "stderr",
     "output_type": "stream",
     "text": [
      "C:\\Users\\coren\\AppData\\Local\\Temp\\ipykernel_3640\\3888455655.py:2: MatplotlibDeprecationWarning: The get_cmap function was deprecated in Matplotlib 3.7 and will be removed in 3.11. Use ``matplotlib.colormaps[name]`` or ``matplotlib.colormaps.get_cmap()`` or ``pyplot.get_cmap()`` instead.\n",
      "  cmap2 = mpl.cm.get_cmap(\"spring\")\n",
      "C:\\Users\\coren\\AppData\\Local\\Temp\\ipykernel_3640\\3888455655.py:3: MatplotlibDeprecationWarning: The get_cmap function was deprecated in Matplotlib 3.7 and will be removed in 3.11. Use ``matplotlib.colormaps[name]`` or ``matplotlib.colormaps.get_cmap()`` or ``pyplot.get_cmap()`` instead.\n",
      "  cmap = mpl.cm.get_cmap(\"winter\")\n"
     ]
    },
    {
     "name": "stdout",
     "output_type": "stream",
     "text": [
      "0 days 00:00:00\n",
      "0 days 00:05:00\n",
      "0 days 00:02:00\n",
      "0 days 00:00:00\n",
      "0 days 00:30:00\n",
      "0 days 00:27:00\n",
      "0 days 00:00:00\n",
      "0 days 03:50:00\n",
      "0 days 02:10:00\n"
     ]
    },
    {
     "data": {
      "text/plain": [
       "<Figure size 480x100 with 6 Axes>"
      ],
      "image/png": "[encoded data removed]"
     },
     "metadata": {},
     "output_type": "display_data"
    }
   ],
   "execution_count": 28
  },
  {
   "cell_type": "code",
   "id": "d98d0349-e48b-4dc9-84a3-7649e12f18da",
   "metadata": {
    "tags": [],
    "ExecuteTime": {
     "end_time": "2024-11-19T20:17:33.397986Z",
     "start_time": "2024-11-19T20:17:17.435827Z"
    }
   },
   "source": [
    "cmap1 = mpl.cm.get_cmap(\"spring\")\n",
    "cmap2 = mpl.cm.get_cmap(\"winter\")\n",
    "maxi = 15\n",
    "max_area=50\n",
    "Csstips = {}\n",
    "Css = {}\n",
    "\n",
    "ncols =2\n",
    "lambsstips = {}\n",
    "fig,axs = gridplot(len(plates),ncols = ncols,subh = height,subw = width,sharex=True,sharey=True)\n",
    "dss = {}\n",
    "dssC = {}\n",
    "\n",
    "for j,ax in enumerate(axs):\n",
    "    if j<len(plates):\n",
    "    # if j==2:\n",
    "        \n",
    "        ax2 = ax.twinx()\n",
    "        plate = plates[j]\n",
    "        plate = int(plate.split('_')[0])\n",
    "        timesteps= range(0,timestep[plate]) \n",
    "        popt_f,r_squared_dens,popt_f2,r_squared_tips =get_wave_fit(time_plate_info,plate,timesteps,max_indexes,lamb = -1,C =1000)\n",
    "        t0 = popt_f[-1]/popt_f[0]\n",
    "        table = time_plate_info.loc[time_plate_info[\"Plate\"] == plate].copy()\n",
    "        # table_err = time_plate_info_long.loc[time_plate_info_long[\"Plate\"]==plate]\n",
    "        table = table.set_index('timestep',drop=False)\n",
    "        # table_err = table_err.set_index('timestep',drop=False)\n",
    "        shift = shifts[plate]\n",
    "        timesteps = table.loc[table['time_since_begin_h'].between(t0+shift,t0+shift+110)]['timestep']\n",
    "        timestep_max =np.max(timesteps)\n",
    "        # table = table.loc[table[\"timestep\"]<=timestep_max]\n",
    "        ts = []\n",
    "        ys = []\n",
    "        ys2 = []\n",
    "        Cs = []\n",
    "        Cserror = []\n",
    "        t0serror = []\n",
    "        lambs = []\n",
    "        indexes = []\n",
    "        t0s = []\n",
    "        ds = []\n",
    "        dsC = []\n",
    "        Cstips = []\n",
    "        lambstip = []\n",
    "\n",
    "        for index in range(1, maxi):\n",
    "            column = f\"ring_density_incr-100_index-{index}{suffix}\"\n",
    "            column2 = f\"ring_active_tips_density_incr-100_index-{index}\"\n",
    "            if len(suffix)>0:\n",
    "                table[column] = table_err[column]\n",
    "            area = np.sqrt(table[\"area_sep_comp\"][0] + 100 * index)\n",
    "            if plate == 866:\n",
    "                area -= shift866*np.sqrt(np.pi/2)\n",
    "            sorted_column = table.sort_values(by=column,ascending=True)\n",
    "            # if len(sorted_column.loc[sorted_column[column] >= 400])>2:\n",
    "            if len(sorted_column.loc[sorted_column[column] >= 400])>3:\n",
    "                start = sorted_column.loc[sorted_column[column] >= 400][\"time_since_begin\"].iloc[2]\n",
    "                select = table.loc[(table[\"time_since_begin\"]/pd.Timedelta(hours=1)).between(start/pd.Timedelta(hours=1)-50,start/pd.Timedelta(hours=1)+50)]\n",
    "                # select = select.loc[select[\"timestep\"]<=timestep_max]\n",
    "                \n",
    "                select = select.loc[((select[\"time_since_begin\"]>=start)&(select[column]>=400)) | (select[\"time_since_begin\"]<start)&(select[column]<=400)].copy()\n",
    "                select[f\"time_since_begin_{index}\"] = (\n",
    "                    select[\"time_since_begin\"] - start\n",
    "                )/pd.Timedelta(hours = 1)\n",
    "                selection_fit = select\n",
    "                xis,yis = selection_fit[f\"time_since_begin_{index}\"],selection_fit[column]\n",
    "                try:\n",
    "                    popt0, pcov = curve_fit(\n",
    "                        S,\n",
    "                        xis,\n",
    "                        yis,\n",
    "                        bounds=([0, 0, -np.inf], 3 * [np.inf]),\n",
    "                        p0=[1, 1000, 0],\n",
    "                    )\n",
    "                    lamb, C, t0 = list(popt0)\n",
    "                    select[f\"time_since_begin_{index}\"] = select[f\"time_since_begin_{index}\"] - t0\n",
    "\n",
    "                    ax.scatter(\n",
    "                        select[f\"time_since_begin_{index}\"],\n",
    "                        select[column],\n",
    "                        alpha=0.5,\n",
    "                        color=cmap2(area / max_area),\n",
    "                    )\n",
    "\n",
    "                    xis,yis = selection_fit[f\"time_since_begin_{index}\"],selection_fit[column]\n",
    "                    data = np.array((xis,yis))\n",
    "                    def statistic(x,y):\n",
    "                        try:\n",
    "                            popt0, pcov = curve_fit(\n",
    "                            S,\n",
    "                            x,\n",
    "                            y,\n",
    "                            bounds=([0, 0, -np.inf], 3 * [np.inf]),\n",
    "                            p0=[1, 1, 0],\n",
    "                        )\n",
    "                            return(popt0[2])\n",
    "                        except:\n",
    "                            return(C)\n",
    "                    xis,yis = selection_fit[f\"time_since_begin_{index}\"],selection_fit[column]\n",
    "                    data = np.array((xis,yis))\n",
    "                    t0s.append(t0+start/pd.Timedelta(hours=1))\n",
    "\n",
    "                    Cs.append(C)\n",
    "                    dsC.append(area / np.sqrt((np.pi / 2)))\n",
    "\n",
    "                    lambs.append(lamb)\n",
    "                    indexes.append(index)\n",
    "                    x = np.linspace(-50, 50, 100)\n",
    "                    ax.plot(\n",
    "                        x,\n",
    "                        S(x + t0, lamb, C, t0),\n",
    "                        color=cmap2(area / max_area),\n",
    "                        label=f\"d = {int(area / np.sqrt((np.pi / 2)))}mm\",\n",
    "                    )\n",
    "                except (RuntimeError, ValueError) as e:\n",
    "                    pass\n",
    "                try:\n",
    "                    popt1, _ = curve_fit(\n",
    "                        dS,\n",
    "                        selection_fit[f\"time_since_begin_{index}\"],\n",
    "                        selection_fit[column2],\n",
    "                        bounds=([0, 0, -np.inf], 3 * [np.inf]),\n",
    "                        p0=[0.2, 0.5, 0],\n",
    "                    )\n",
    "                    lamb, C, t1 = list(popt1)\n",
    "                    if lamb>0.15:\n",
    "                        Cstips.append(C)\n",
    "                        lambstip.append(lamb)\n",
    "                        ds.append(area / np.sqrt((np.pi / 2)))\n",
    "\n",
    "                        ax2.scatter(\n",
    "                            select[f\"time_since_begin_{index}\"]-t1,\n",
    "                            select[column2],\n",
    "                            alpha=0.5,\n",
    "                            color=cmap1(area / max_area),\n",
    "                        )\n",
    "                        ax2.plot(\n",
    "                            x,\n",
    "                            dS(x +t1, lamb, C, t1),\n",
    "                            color=cmap1(area / max_area),\n",
    "                            label=f\"d = {int(area / np.sqrt((np.pi / 2)))}mm\",\n",
    "                        )\n",
    "                except (RuntimeError, ValueError) as e:\n",
    "                    pass\n",
    "\n",
    "        ax2.set_xlim((-30, 30))\n",
    "        ax2.set_ylim((0, 0.25))\n",
    "        ax.set_ylim((0, 4000))\n",
    "\n",
    "        # ax.set_ylabel(\"Network density ($\\mu m.mm^{-2}$)\")\n",
    "        # ax2.set_xlabel(\"Shifted time ($h$)\")\n",
    "        # ax2.set_ylabel(\"Active tips density ($mm^{-2}$)\")\n",
    "        ax.tick_params(axis=\"y\", colors=\"blue\")\n",
    "        ax2.tick_params(axis=\"y\", colors=\"red\")\n",
    "        if j%ncols < ncols-1:\n",
    "            ax2.set_yticklabels([])\n",
    "        Csstips[plate] = Cstips\n",
    "        Css[plate] = Cs\n",
    "\n",
    "        lambsstips[plate] = lambstip\n",
    "        dss[plate] = ds\n",
    "        dssC[plate] = dsC\n",
    "\n"
   ],
   "outputs": [
    {
     "name": "stderr",
     "output_type": "stream",
     "text": [
      "C:\\Users\\coren\\AppData\\Local\\Temp\\ipykernel_3640\\3855991556.py:1: MatplotlibDeprecationWarning: The get_cmap function was deprecated in Matplotlib 3.7 and will be removed in 3.11. Use ``matplotlib.colormaps[name]`` or ``matplotlib.colormaps.get_cmap()`` or ``pyplot.get_cmap()`` instead.\n",
      "  cmap1 = mpl.cm.get_cmap(\"spring\")\n",
      "C:\\Users\\coren\\AppData\\Local\\Temp\\ipykernel_3640\\3855991556.py:2: MatplotlibDeprecationWarning: The get_cmap function was deprecated in Matplotlib 3.7 and will be removed in 3.11. Use ``matplotlib.colormaps[name]`` or ``matplotlib.colormaps.get_cmap()`` or ``pyplot.get_cmap()`` instead.\n",
      "  cmap2 = mpl.cm.get_cmap(\"winter\")\n",
      "C:\\Users\\coren\\Documents\\PhD\\paper\\travelling_wave\\AMFTravellingWave\\amftrack\\pipeline\\final_analysis\\density_wave.py:55: RuntimeWarning: overflow encountered in exp\n",
      "  return C * (1 / (1 + np.exp(lamb * (t0 - t))))\n",
      "C:\\Users\\coren\\AppData\\Local\\pypoetry\\Cache\\virtualenvs\\amftrack-YdvNN67V-py3.11\\Lib\\site-packages\\pandas\\core\\arraylike.py:402: RuntimeWarning: overflow encountered in exp\n",
      "  result = getattr(ufunc, method)(*inputs, **kwargs)\n",
      "C:\\Users\\coren\\Documents\\PhD\\paper\\travelling_wave\\AMFTravellingWave\\amftrack\\pipeline\\final_analysis\\density_wave.py:55: RuntimeWarning: overflow encountered in exp\n",
      "  return C * (1 / (1 + np.exp(lamb * (t0 - t))))\n",
      "C:\\Users\\coren\\Documents\\PhD\\paper\\travelling_wave\\AMFTravellingWave\\amftrack\\pipeline\\final_analysis\\density_wave.py:55: RuntimeWarning: overflow encountered in exp\n",
      "  return C * (1 / (1 + np.exp(lamb * (t0 - t))))\n",
      "C:\\Users\\coren\\Documents\\PhD\\paper\\travelling_wave\\AMFTravellingWave\\amftrack\\pipeline\\final_analysis\\density_wave.py:55: RuntimeWarning: overflow encountered in exp\n",
      "  return C * (1 / (1 + np.exp(lamb * (t0 - t))))\n",
      "C:\\Users\\coren\\Documents\\PhD\\paper\\travelling_wave\\AMFTravellingWave\\amftrack\\pipeline\\final_analysis\\density_wave.py:55: RuntimeWarning: overflow encountered in exp\n",
      "  return C * (1 / (1 + np.exp(lamb * (t0 - t))))\n",
      "C:\\Users\\coren\\Documents\\PhD\\paper\\travelling_wave\\AMFTravellingWave\\amftrack\\pipeline\\final_analysis\\density_wave.py:55: RuntimeWarning: overflow encountered in exp\n",
      "  return C * (1 / (1 + np.exp(lamb * (t0 - t))))\n"
     ]
    },
    {
     "data": {
      "text/plain": [
       "<Figure size 320x200 with 7 Axes>"
      ],
      "image/png": "[encoded data removed]"
     },
     "metadata": {},
     "output_type": "display_data"
    }
   ],
   "execution_count": 29
  },
  {
   "cell_type": "code",
   "id": "4f7d578d-7c59-4bac-b88e-cf5f6185c0a0",
   "metadata": {
    "ExecuteTime": {
     "end_time": "2024-11-19T20:17:33.956768Z",
     "start_time": "2024-11-19T20:17:33.409986Z"
    }
   },
   "source": [
    "def make_stat(x0,ax):\n",
    "    def statistic(x,y):\n",
    "        X = sm.add_constant(x, prepend=False)\n",
    "        model = sm.OLS(y,X)\n",
    "        res = model.fit()\n",
    "        a,b = res.params[0],res.params[1]\n",
    "        ax.plot(x0,np.array(x0)*a+b,color = 'grey', alpha = 0.01)\n",
    "        return(a)\n",
    "    return(statistic)"
   ],
   "outputs": [],
   "execution_count": 30
  },
  {
   "cell_type": "code",
   "id": "7983ec58-9de7-49ac-9706-f2314791790a",
   "metadata": {
    "tags": [],
    "ExecuteTime": {
     "end_time": "2024-11-19T20:17:34.961986Z",
     "start_time": "2024-11-19T20:17:34.092290Z"
    }
   },
   "source": [
    "fig,ax = plt.subplots(figsize=(width,height))\n",
    "# Define a list of line styles\n",
    "line_styles = ['-', '--', ':', '-.', (0, (5, 1)), (0, (3, 1, 1, 1)), (0, (3, 5, 1, 5)), (0, (5, 5)), (0, (3, 5, 1, 5, 1, 5)),\n",
    "              (0, (5, 10)), (0, (3, 10, 1, 10)), (0, (3, 5, 1, 5, 1, 10))]\n",
    "\n",
    "# Define a list of line colors\n",
    "line_colors = ['b', 'g', 'r', 'c', 'm', 'y', 'k', 'darkorange', 'purple', 'brown', 'teal', 'pink']\n",
    "\n",
    "def statistic(ds,Cs):\n",
    "    X = sm.add_constant(ds, prepend=False)\n",
    "    model = sm.OLS(Cs,X)\n",
    "    res = model.fit()\n",
    "    a,b = res.params[0],res.params[1]\n",
    "    color = plt.gca().lines[-1].get_color()\n",
    "    ax.plot(ds,np.array(ds)*a+b,color = color, alpha = 0.01)\n",
    "    return(a)\n",
    "\n",
    "tot_ds = []\n",
    "tot_Cs=[]\n",
    "for j,plate in enumerate(plates):\n",
    "    plate = int(plate.split('_')[0])\n",
    "    Cs = Css[plate]\n",
    "    ds = dssC[plate]\n",
    "    tot_ds+=ds\n",
    "    tot_Cs+=Cs\n",
    "    # ax.plot(ds,Cs,alpha = 0.2,color = line_colors[j])\n",
    "    \n",
    "    X = sm.add_constant(ds, prepend=False)\n",
    "    model = sm.OLS(Cs,X)\n",
    "    res = model.fit()\n",
    "    a,b = res.params[0],res.params[1]\n",
    "    ax.plot(ds,np.array(ds)*a+b,label=plate,linestyle = line_styles[j],color = line_colors[j])\n",
    "    data = np.array((ds,Cs))\n",
    "    \n",
    "#     n_resamples=1000\n",
    "#     std = scipy.stats.bootstrap(data,statistic,\n",
    "#                                 vectorized = False,\n",
    "#                                 method=\"basic\",\n",
    "#                                 n_resamples = n_resamples,\n",
    "#                                 paired= True).standard_error\n",
    "# X = sm.add_constant(tot_ds, prepend=False)\n",
    "# model = sm.OLS(tot_Cs,X)\n",
    "# res = model.fit()\n",
    "# a,b = res.params[0],res.params[1]\n",
    "# ax.plot(tot_ds,np.array(tot_ds)*a+b,color = 'black')\n",
    "df = pd.DataFrame((tot_ds,tot_Cs)).transpose()\n",
    "df.columns = ('distance','saturation density')\n",
    "data = np.array((tot_ds,tot_Cs))\n",
    "# n_resamples=10000\n",
    "# std = scipy.stats.bootstrap(data,statistic,\n",
    "#                             vectorized = False,\n",
    "#                             method=\"basic\",\n",
    "#                             n_resamples = n_resamples,\n",
    "#                             paired= True).standard_error\n",
    "\n",
    "# data = df.groupby('distance').mean()\n",
    "# ax.plot(data.index,data,label=\"average\",color='black',linewidth=10,alpha = 0.5)    \n",
    "# ax.legend()\n",
    "ax.set_xlabel('distance from origin (mm)')\n",
    "ax.set_ylabel('saturation density \\n ($\\mu m.mm^{-2}$)')\n",
    "# ax.set_ylim(0,1000)\n",
    "\n",
    "# plt.tight_layout()\n",
    "# plt.savefig(f'Figure/FigureS1Bsubset.svg')    \n",
    "ax.set_ylim(0,2500)\n",
    "# plt.savefig(os.path.join(path_figure,'FigureS2D.pdf'), transparent=True, bbox_inches='tight')\n"
   ],
   "outputs": [
    {
     "data": {
      "text/plain": [
       "(0.0, 2500.0)"
      ]
     },
     "execution_count": 31,
     "metadata": {},
     "output_type": "execute_result"
    },
    {
     "data": {
      "text/plain": [
       "<Figure size 160x100 with 1 Axes>"
      ],
      "image/png": "[encoded data removed]"
     },
     "metadata": {},
     "output_type": "display_data"
    }
   ],
   "execution_count": 31
  },
  {
   "cell_type": "code",
   "id": "0cfb6f36-ba78-4de7-bc9d-480d10ca86c9",
   "metadata": {
    "tags": [],
    "ExecuteTime": {
     "end_time": "2024-11-19T20:17:38.108114Z",
     "start_time": "2024-11-19T20:17:37.366439Z"
    }
   },
   "source": [
    "fig, ax = plt.subplots(figsize=(width,height))\n",
    "\n",
    "for j,plate in enumerate(plates):\n",
    "    plate = int(plate.split('_')[0])\n",
    "    Cstips = np.array(Csstips[plate])/2\n",
    "    if len(Cstips)>1:\n",
    "        ds = dss[plate]\n",
    "        # ax.scatter(ds,Cstips)\n",
    "        x = np.array(ds)\n",
    "        X = sm.add_constant(x, prepend=False)\n",
    "        model = sm.OLS(Cstips,X)\n",
    "        res = model.fit()\n",
    "        a,b = res.params[0],res.params[1]\n",
    "        ax.plot(x,x*a+b,linestyle = line_styles[j],color = line_colors[j])\n",
    "ax.set_ylim(0,1)\n",
    "ax.set_xlabel('distance from origin (mm)')\n",
    "\n",
    "ax.set_ylabel(\"peak value ($mm^{-2}$)\")\n"
   ],
   "outputs": [
    {
     "data": {
      "text/plain": [
       "Text(0, 0.5, 'peak value ($mm^{-2}$)')"
      ]
     },
     "execution_count": 32,
     "metadata": {},
     "output_type": "execute_result"
    },
    {
     "data": {
      "text/plain": [
       "<Figure size 160x100 with 1 Axes>"
      ],
      "image/png": "[encoded data removed]"
     },
     "metadata": {},
     "output_type": "display_data"
    }
   ],
   "execution_count": 32
  },
  {
   "cell_type": "code",
   "id": "0834f0f0-1f23-454b-a708-9c804355321b",
   "metadata": {
    "ExecuteTime": {
     "end_time": "2024-11-19T20:18:01.225451Z",
     "start_time": "2024-11-19T20:17:40.323430Z"
    }
   },
   "source": [
    "\n",
    "all_analysis_folders = get_analysis_folders()\n",
    "\n",
    "analysis_folders = all_analysis_folders.loc[all_analysis_folders['unique_id'].isin(plates)]"
   ],
   "outputs": [],
   "execution_count": 33
  },
  {
   "cell_type": "code",
   "id": "5b553132-dcc0-4b07-b869-7666fc4d9616",
   "metadata": {
    "tags": [],
    "ExecuteTime": {
     "end_time": "2024-11-19T20:18:25.803942Z",
     "start_time": "2024-11-19T20:18:01.233452Z"
    }
   },
   "source": [
    "folders, time_hypha_info = get_time_hypha_info_from_analysis(analysis_folders)\n",
    "folders,global_hypha_info = get_global_hypha_info_from_analysis(analysis_folders)"
   ],
   "outputs": [],
   "execution_count": 34
  },
  {
   "cell_type": "code",
   "id": "62e39012-1c38-4742-8bdb-63fe28ec6f84",
   "metadata": {
    "ExecuteTime": {
     "end_time": "2024-11-19T20:18:37.001149Z",
     "start_time": "2024-11-19T20:18:25.997970Z"
    }
   },
   "source": [
    "width = 1.6\n",
    "height = 1\n",
    "ncols = 2\n",
    "fig,axs = gridplot(len(plates),ncols = ncols,subh = height,subw = width)\n",
    "ax_list = list(axs)\n",
    "maxi = 100\n",
    "replicate_dfs = []\n",
    "for j in range(len(plates)):\n",
    "    replicate_data = []\n",
    "    plate_id = plates[j]\n",
    "    plate = int(plate_id.split('_')[0])\n",
    "    ax = ax_list[j]\n",
    "    hull_speeds = []\n",
    "    hull_time = []\n",
    "    time_hypha_plate = time_hypha_info.loc[time_hypha_info['unique_id'].astype(str).str[:len(str(plate))]==str(plate)]\n",
    "\n",
    "    data,dy,select_movements = get_average_time_data(int(plate_id),time_hypha_info,2)\n",
    "    hyphae_hull = get_hyphae_hull(plate_id,analysis_folders)\n",
    "    if len(hyphae_hull)>0:\n",
    "        label = 'hull pusher'\n",
    "        for t in range(1,min(len(time_hypha_plate['timestep'].unique())-1,maxi)):\n",
    "            select = time_hypha_plate.loc[time_hypha_plate['timestep']==t]\n",
    "            select = select.loc[select['end'].isin(hyphae_hull[t-1]) |select['end'].isin(hyphae_hull[t]) |select['end'].isin(hyphae_hull[t+1])]\n",
    "            select = select.loc[select['speed'].between(150,350)]\n",
    "            if len(select)>0:\n",
    "                time = select['time_since_emergence'].iloc[0]\n",
    "                if time<=100:\n",
    "                    ax.scatter(select['time_since_emergence'].iloc[0],np.mean(select[\"speed\"]),color='black')\n",
    "                    ax.errorbar(select['time_since_emergence'].iloc[0],np.mean(select[\"speed\"]),np.std(select[\"speed\"])/np.sqrt(len(select)),color='black',label=label)\n",
    "                    replicate_data.append({\n",
    "                        # \"Plate\": plate_id,\n",
    "                        \"Time\": select['time_since_emergence'].iloc[0],\n",
    "                        \"Replicates\": len(select),\n",
    "                        # \"Mean Speed\": np.mean(select[\"speed\"]),\n",
    "                    })\n",
    "                    label = None\n",
    "                    hull_speeds.append(np.mean(select[\"speed\"]))\n",
    "                    hull_time.append(select['time_since_emergence'].iloc[0])\n",
    "        ax.set_ylim(0,450)\n",
    "        if j//ncols == len(plates)//ncols-1:\n",
    "            ax.set_xlabel('time since begin (h)')\n",
    "        if j%ncols == 0:\n",
    "            ax.set_ylabel('speed ($\\mu m.h^{-1}$)') \n",
    "        if j%ncols !=0:\n",
    "            ax.set_yticklabels([])\n",
    "        ax.plot(hull_time,[np.mean(hull_speeds)]*len(hull_time),\n",
    "                color=\"black\",\n",
    "                label= f'mean hull pusher speed {int(np.nanmean(hull_speeds))}$\\pm${int(2*np.nanstd(hull_speeds)/np.sqrt(len(hull_speeds)))} $\\mu m.h^{-1}$')\n",
    "\n",
    "    replicate_df = pd.DataFrame(replicate_data)\n",
    "    replicate_dfs.append(replicate_df)"
   ],
   "outputs": [
    {
     "data": {
      "text/plain": [
       "<Figure size 320x200 with 4 Axes>"
      ],
      "image/png": "[encoded data removed]"
     },
     "metadata": {},
     "output_type": "display_data"
    }
   ],
   "execution_count": 35
  },
  {
   "metadata": {
    "ExecuteTime": {
     "end_time": "2024-11-19T20:19:31.874714Z",
     "start_time": "2024-11-19T20:19:31.252670Z"
    }
   },
   "cell_type": "code",
   "source": [
    "import pandas as pd\n",
    "\n",
    "# Add a \"Plate\" column to each DataFrame and concatenate them\n",
    "for idx, df in enumerate(replicate_dfs):\n",
    "    df['Plate'] = f\"Plate {idx + 1}\"  # Add plate info\n",
    "\n",
    "# Combine all DataFrames into one\n",
    "combined_df = pd.concat(replicate_dfs, ignore_index=True)\n",
    "\n",
    "combined_df.to_clipboard()\n"
   ],
   "id": "33ffc92f59b33a14",
   "outputs": [],
   "execution_count": 36
  }
 ],
 "metadata": {
  "kernelspec": {
   "display_name": "Python 3 (ipykernel)",
   "language": "python",
   "name": "python3"
  },
  "language_info": {
   "codemirror_mode": {
    "name": "ipython",
    "version": 3
   },
   "file_extension": ".py",
   "mimetype": "text/x-python",
   "name": "python",
   "nbconvert_exporter": "python",
   "pygments_lexer": "ipython3",
   "version": "3.10.6"
  }
 },
 "nbformat": 4,
 "nbformat_minor": 5
}
