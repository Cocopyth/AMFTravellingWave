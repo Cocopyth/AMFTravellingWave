{
 "cells": [
  {
   "cell_type": "markdown",
   "id": "5def1d4d-9263-471e-bf49-030f3306cf6b",
   "metadata": {},
   "source": [
    "# 0 : Creating crops for training"
   ]
  },
  {
   "cell_type": "markdown",
   "id": "f50072ad-9b36-4ad2-84a0-09af0bb79226",
   "metadata": {},
   "source": [
    "As the model cannot be trained on full images (requires too much GPU memory) we will split the manually annotated masks and images here to enable StarDist training"
   ]
  },
  {
   "cell_type": "markdown",
   "id": "9480b43b-0517-4198-bb32-0683b89f3973",
   "metadata": {},
   "source": [
    "***"
   ]
  },
  {
   "cell_type": "code",
   "execution_count": 30,
   "id": "59671952",
   "metadata": {},
   "outputs": [],
   "source": [
    "from glob import glob\n",
    "from skimage import io\n",
    "from pathlib import Path\n",
    "import numpy as np\n",
    "from skimage.measure import regionprops_table\n",
    "import warnings\n",
    "warnings.filterwarnings('ignore')"
   ]
  },
  {
   "cell_type": "code",
   "execution_count": 31,
   "id": "0ea6caab",
   "metadata": {},
   "outputs": [],
   "source": [
    "X = sorted(glob(r'images\\*.tif'))\n",
    "Y = sorted(glob(r'masks\\*.tif'))\n",
    "assert all(Path(x).name==Path(y).name for x,y in zip(X,Y))"
   ]
  },
  {
   "cell_type": "code",
   "execution_count": 32,
   "id": "c419e50f",
   "metadata": {},
   "outputs": [],
   "source": [
    "X = list(map(io.imread,X))\n",
    "Y = list(map(io.imread,Y))\n",
    "n_channel = 1 if X[0].ndim == 3 else X[0].shape[-1]"
   ]
  },
  {
   "cell_type": "code",
   "execution_count": 33,
   "id": "32a562a1",
   "metadata": {},
   "outputs": [
    {
     "data": {
      "text/plain": [
       "array([ 41, 144, 144])"
      ]
     },
     "execution_count": 33,
     "metadata": {},
     "output_type": "execute_result"
    }
   ],
   "source": [
    "tile_size = X[0].shape//np.array((1,16,16))\n",
    "tile_size"
   ]
  },
  {
   "cell_type": "code",
   "execution_count": null,
   "id": "c7ec55ed",
   "metadata": {},
   "outputs": [],
   "source": [
    "path = fr'images\\crops'\n",
    "mpath = fr'masks\\crops'"
   ]
  },
  {
   "cell_type": "code",
   "execution_count": null,
   "id": "49b83d1a",
   "metadata": {},
   "outputs": [],
   "source": [
    "Ys=[]\n",
    "for mask in Y:\n",
    "    if len(mask.shape)>3:\n",
    "        Ys.append(np.squeeze(mask))\n",
    "    else:\n",
    "        Ys.append(mask)"
   ]
  },
  {
   "cell_type": "code",
   "execution_count": null,
   "id": "b5e3ce13",
   "metadata": {},
   "outputs": [],
   "source": [
    "counter=0\n",
    "for img,mask in zip(X,Ys):\n",
    "    counter+=1\n",
    "    for y in range(tile_size[1],img.shape[1]+2*tile_size[1],tile_size[1]):\n",
    "        y0=y-tile_size[1]\n",
    "        for x in range(tile_size[2],img.shape[2]+2*tile_size[2],tile_size[2]):\n",
    "            x0=x-tile_size[2]\n",
    "            crop = img[:, y0:y, x0:x]\n",
    "            mask_crop = mask[:, y0:y, x0:x]\n",
    "            if len(np.unique(mask_crop))>=3:\n",
    "                io.imsave(path+fr'\\crop_{counter}_{y}_{x}.tif',crop)\n",
    "                io.imsave(mpath+fr'\\crop_{counter}_{y}_{x}.tif',mask_crop)"
   ]
  },
  {
   "cell_type": "code",
   "execution_count": null,
   "id": "d4a3ee8f",
   "metadata": {
    "scrolled": true
   },
   "outputs": [
    {
     "name": "stderr",
     "output_type": "stream",
     "text": [
      "C:\\Users\\Sander\\AppData\\Local\\Temp\\ipykernel_327308\\2688358788.py:13: UserWarning: S:\\analysis\\DAPI Cellophane\\Notebooks_StarDist\\images\\crops\\crop_2_42_2160_1152.tif is a low contrast image\n",
      "  io.imsave(path+fr'\\crop_{counter}_{z}_{y}_{x}.tif',crop)\n",
      "C:\\Users\\Sander\\AppData\\Local\\Temp\\ipykernel_327308\\2688358788.py:14: UserWarning: S:\\analysis\\DAPI Cellophane\\Notebooks_StarDist\\masks\\crops\\crop_2_42_2160_1152.tif is a low contrast image\n",
      "  io.imsave(mpath+fr'\\crop_{counter}_{z}_{y}_{x}.tif',mask_crop)\n",
      "C:\\Users\\Sander\\AppData\\Local\\Temp\\ipykernel_327308\\2688358788.py:13: UserWarning: S:\\analysis\\DAPI Cellophane\\Notebooks_StarDist\\images\\crops\\crop_2_42_2304_1152.tif is a low contrast image\n",
      "  io.imsave(path+fr'\\crop_{counter}_{z}_{y}_{x}.tif',crop)\n",
      "C:\\Users\\Sander\\AppData\\Local\\Temp\\ipykernel_327308\\2688358788.py:14: UserWarning: S:\\analysis\\DAPI Cellophane\\Notebooks_StarDist\\masks\\crops\\crop_2_42_2304_1152.tif is a low contrast image\n",
      "  io.imsave(mpath+fr'\\crop_{counter}_{z}_{y}_{x}.tif',mask_crop)\n",
      "C:\\Users\\Sander\\AppData\\Local\\Temp\\ipykernel_327308\\2688358788.py:13: UserWarning: S:\\analysis\\DAPI Cellophane\\Notebooks_StarDist\\images\\crops\\crop_3_42_144_1872.tif is a low contrast image\n",
      "  io.imsave(path+fr'\\crop_{counter}_{z}_{y}_{x}.tif',crop)\n",
      "C:\\Users\\Sander\\AppData\\Local\\Temp\\ipykernel_327308\\2688358788.py:14: UserWarning: S:\\analysis\\DAPI Cellophane\\Notebooks_StarDist\\masks\\crops\\crop_3_42_144_1872.tif is a low contrast image\n",
      "  io.imsave(mpath+fr'\\crop_{counter}_{z}_{y}_{x}.tif',mask_crop)\n",
      "C:\\Users\\Sander\\AppData\\Local\\Temp\\ipykernel_327308\\2688358788.py:13: UserWarning: S:\\analysis\\DAPI Cellophane\\Notebooks_StarDist\\images\\crops\\crop_3_42_432_1728.tif is a low contrast image\n",
      "  io.imsave(path+fr'\\crop_{counter}_{z}_{y}_{x}.tif',crop)\n",
      "C:\\Users\\Sander\\AppData\\Local\\Temp\\ipykernel_327308\\2688358788.py:14: UserWarning: S:\\analysis\\DAPI Cellophane\\Notebooks_StarDist\\masks\\crops\\crop_3_42_432_1728.tif is a low contrast image\n",
      "  io.imsave(mpath+fr'\\crop_{counter}_{z}_{y}_{x}.tif',mask_crop)\n",
      "C:\\Users\\Sander\\AppData\\Local\\Temp\\ipykernel_327308\\2688358788.py:13: UserWarning: S:\\analysis\\DAPI Cellophane\\Notebooks_StarDist\\images\\crops\\crop_3_42_576_1584.tif is a low contrast image\n",
      "  io.imsave(path+fr'\\crop_{counter}_{z}_{y}_{x}.tif',crop)\n",
      "C:\\Users\\Sander\\AppData\\Local\\Temp\\ipykernel_327308\\2688358788.py:14: UserWarning: S:\\analysis\\DAPI Cellophane\\Notebooks_StarDist\\masks\\crops\\crop_3_42_576_1584.tif is a low contrast image\n",
      "  io.imsave(mpath+fr'\\crop_{counter}_{z}_{y}_{x}.tif',mask_crop)\n",
      "C:\\Users\\Sander\\AppData\\Local\\Temp\\ipykernel_327308\\2688358788.py:13: UserWarning: S:\\analysis\\DAPI Cellophane\\Notebooks_StarDist\\images\\crops\\crop_3_42_1152_1296.tif is a low contrast image\n",
      "  io.imsave(path+fr'\\crop_{counter}_{z}_{y}_{x}.tif',crop)\n",
      "C:\\Users\\Sander\\AppData\\Local\\Temp\\ipykernel_327308\\2688358788.py:14: UserWarning: S:\\analysis\\DAPI Cellophane\\Notebooks_StarDist\\masks\\crops\\crop_3_42_1152_1296.tif is a low contrast image\n",
      "  io.imsave(mpath+fr'\\crop_{counter}_{z}_{y}_{x}.tif',mask_crop)\n",
      "C:\\Users\\Sander\\AppData\\Local\\Temp\\ipykernel_327308\\2688358788.py:13: UserWarning: S:\\analysis\\DAPI Cellophane\\Notebooks_StarDist\\images\\crops\\crop_3_42_1296_1152.tif is a low contrast image\n",
      "  io.imsave(path+fr'\\crop_{counter}_{z}_{y}_{x}.tif',crop)\n",
      "C:\\Users\\Sander\\AppData\\Local\\Temp\\ipykernel_327308\\2688358788.py:14: UserWarning: S:\\analysis\\DAPI Cellophane\\Notebooks_StarDist\\masks\\crops\\crop_3_42_1296_1152.tif is a low contrast image\n",
      "  io.imsave(mpath+fr'\\crop_{counter}_{z}_{y}_{x}.tif',mask_crop)\n",
      "C:\\Users\\Sander\\AppData\\Local\\Temp\\ipykernel_327308\\2688358788.py:14: UserWarning: S:\\analysis\\DAPI Cellophane\\Notebooks_StarDist\\masks\\crops\\crop_3_42_1440_1152.tif is a low contrast image\n",
      "  io.imsave(mpath+fr'\\crop_{counter}_{z}_{y}_{x}.tif',mask_crop)\n",
      "C:\\Users\\Sander\\AppData\\Local\\Temp\\ipykernel_327308\\2688358788.py:14: UserWarning: S:\\analysis\\DAPI Cellophane\\Notebooks_StarDist\\masks\\crops\\crop_3_42_2160_720.tif is a low contrast image\n",
      "  io.imsave(mpath+fr'\\crop_{counter}_{z}_{y}_{x}.tif',mask_crop)\n",
      "C:\\Users\\Sander\\AppData\\Local\\Temp\\ipykernel_327308\\2688358788.py:14: UserWarning: S:\\analysis\\DAPI Cellophane\\Notebooks_StarDist\\masks\\crops\\crop_3_42_2304_720.tif is a low contrast image\n",
      "  io.imsave(mpath+fr'\\crop_{counter}_{z}_{y}_{x}.tif',mask_crop)\n",
      "C:\\Users\\Sander\\AppData\\Local\\Temp\\ipykernel_327308\\2688358788.py:13: UserWarning: S:\\analysis\\DAPI Cellophane\\Notebooks_StarDist\\images\\crops\\crop_3_83_1440_1152.tif is a low contrast image\n",
      "  io.imsave(path+fr'\\crop_{counter}_{z}_{y}_{x}.tif',crop)\n",
      "C:\\Users\\Sander\\AppData\\Local\\Temp\\ipykernel_327308\\2688358788.py:14: UserWarning: S:\\analysis\\DAPI Cellophane\\Notebooks_StarDist\\masks\\crops\\crop_3_83_1440_1152.tif is a low contrast image\n",
      "  io.imsave(mpath+fr'\\crop_{counter}_{z}_{y}_{x}.tif',mask_crop)\n"
     ]
    }
   ],
   "source": [
    "counter=0\n",
    "for img,mask in zip(X,Y):\n",
    "    counter+=1\n",
    "    for z in range(tile_size[0]+1,img.shape[0]+tile_size[0],tile_size[0]):\n",
    "        z0= z-tile_size[0]\n",
    "        for y in range(tile_size[1],img.shape[1]+2*tile_size[1],tile_size[1]):\n",
    "            y0=y-tile_size[1]\n",
    "            for x in range(tile_size[2],img.shape[2]+2*tile_size[2],tile_size[2]):\n",
    "                x0=x-tile_size[2]\n",
    "                crop = img[z0:z, y0:y, x0:x]\n",
    "                mask_crop = mask[z0:z, y0:y, x0:x]\n",
    "                if len(np.unique(mask_crop))>=3:\n",
    "                    io.imsave(path+fr'\\crop_{counter}_{z}_{y}_{x}.tif',crop)\n",
    "                    io.imsave(mpath+fr'\\crop_{counter}_{z}_{y}_{x}.tif',mask_crop)"
   ]
  }
 ],
 "metadata": {
  "kernelspec": {
   "display_name": "Python 3 (ipykernel)",
   "language": "python",
   "name": "python3"
  },
  "language_info": {
   "codemirror_mode": {
    "name": "ipython",
    "version": 3
   },
   "file_extension": ".py",
   "mimetype": "text/x-python",
   "name": "python",
   "nbconvert_exporter": "python",
   "pygments_lexer": "ipython3",
   "version": "3.9.16"
  }
 },
 "nbformat": 4,
 "nbformat_minor": 5
}
