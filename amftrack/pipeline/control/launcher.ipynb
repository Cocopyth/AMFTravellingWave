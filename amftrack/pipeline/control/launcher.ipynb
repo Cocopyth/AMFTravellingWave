{
 "cells": [
  {
   "cell_type": "code",
   "execution_count": 1,
   "id": "b608afbc-ca48-476f-a966-f94e310ea7ab",
   "metadata": {
    "tags": []
   },
   "outputs": [
    {
     "name": "stderr",
     "output_type": "stream",
     "text": [
      "/gpfs/home2/cbisot/pycode/AMFtrack/amftrack/util/dbx.py:3: TqdmExperimentalWarning: Using `tqdm.autonotebook.tqdm` in notebook mode. Use `tqdm.tqdm` instead to force console mode (e.g. in jupyter console)\n",
      "  from tqdm.autonotebook import tqdm\n"
     ]
    }
   ],
   "source": [
    "%load_ext autoreload\n",
    "%autoreload 2\n",
    "from amftrack.pipeline.launching.run_super import (\n",
    "    run_launcher,\n",
    "    directory_scratch,\n",
    "    directory_project,\n",
    "    directory_project,\n",
    "    run_parallel_stitch,\n",
    "    run_parallel_transfer,\n",
    ")\n",
    "import os\n",
    "from amftrack.util.sys import (\n",
    "    get_dates_datetime,\n",
    "    get_dirname,\n",
    "    temp_path,\n",
    "    get_data_info,\n",
    "    update_plate_info,\n",
    "    update_analysis_info,\n",
    "    get_analysis_info,\n",
    "    get_current_folders,\n",
    "    get_folders_by_plate_id,\n",
    ")\n",
    "\n",
    "from time import time_ns\n",
    "from amftrack.util.dbx import upload_folders, load_dbx, download, get_dropbox_folders\n",
    "from datetime import datetime\n",
    "from amftrack.pipeline.launching.run_super import (\n",
    "    run_parallel,\n",
    "    directory_scratch,\n",
    "    directory_project,\n",
    "    run_parallel_stitch,\n",
    ")\n",
    "from amftrack.util.dbx import read_saved_dropbox_state,get_dropbox_folders\n"
   ]
  },
  {
   "cell_type": "code",
   "execution_count": 1,
   "id": "6429b7b5",
   "metadata": {
    "collapsed": false,
    "jupyter": {
     "outputs_hidden": false
    },
    "pycharm": {
     "name": "#%%\n"
    }
   },
   "outputs": [],
   "source": [
    "plates = [\n",
    "    \"94_20201123\"\n",
    "]\n"
   ]
  },
  {
   "cell_type": "code",
   "execution_count": 10,
   "id": "50c944da-ef14-4242-b6ac-48aea758abbb",
   "metadata": {},
   "outputs": [
    {
     "data": {
      "text/plain": [
       "'/projects/0/einf914/data/'"
      ]
     },
     "execution_count": 10,
     "metadata": {},
     "output_type": "execute_result"
    }
   ],
   "source": [
    "directory_targ = directory_project"
   ]
  },
  {
   "cell_type": "code",
   "execution_count": 12,
   "id": "2c7d9788-67e0-4df7-b5cc-c2c2bdd816b9",
   "metadata": {},
   "outputs": [
    {
     "name": "stderr",
     "output_type": "stream",
     "text": [
      "sbatch: Single-node jobs run on a shared node by default. Add --exclusive if you want to use a node exclusively.\n",
      "sbatch: A full node consists of 32 CPU cores, 229376 MiB of memory and 0 GPUs and can be shared by up to 32 jobs.\n",
      "sbatch: By default shared jobs get 7168 MiB of memory per CPU core, unless explicitly overridden with --mem-per-cpu, --mem-per-gpu or --mem.\n",
      "sbatch: You will be charged for 0.03125 node, based on the number of CPUs, GPUs and the amount memory that you've requested.\n"
     ]
    },
    {
     "name": "stdout",
     "output_type": "stream",
     "text": [
      "Submitted batch job 3205059\n"
     ]
    }
   ],
   "source": [
    "name_job = f\"one_shot_{time_ns()}.sh\"\n",
    "run_launcher(\n",
    "    \"dropbox_downloader.py\",\n",
    "    [directory_targ, name_job, 30, \"stitcher.py\"],\n",
    "    plates,\n",
    "    \"12:00:00\",\n",
    "    name_job=name_job,\n",
    "    dependency=True,\n",
    ")"
   ]
  }
 ],
 "metadata": {
  "kernelspec": {
   "display_name": "Python 3 (ipykernel)",
   "language": "python",
   "name": "python3"
  },
  "language_info": {
   "codemirror_mode": {
    "name": "ipython",
    "version": 3
   },
   "file_extension": ".py",
   "mimetype": "text/x-python",
   "name": "python",
   "nbconvert_exporter": "python",
   "pygments_lexer": "ipython3",
   "version": "3.10.6"
  }
 },
 "nbformat": 4,
 "nbformat_minor": 5
}
